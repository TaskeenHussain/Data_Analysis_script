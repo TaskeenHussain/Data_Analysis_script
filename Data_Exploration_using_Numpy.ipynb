{
 "cells": [
  {
   "cell_type": "markdown",
   "metadata": {},
   "source": [
    "# Data_Analysis_with_Numpy\n",
    "### Author : Taskeen_Hussain\n",
    "### Date   : 2025-01-04\n",
    "### Description : This script is used to perform data analysis with numpy library.\n"
   ]
  },
  {
   "cell_type": "code",
   "execution_count": 9,
   "metadata": {},
   "outputs": [
    {
     "name": "stdout",
     "output_type": "stream",
     "text": [
      "[11 20 33]\n"
     ]
    }
   ],
   "source": [
    "# Excercise 1\n",
    "import numpy as np  \n",
    "a = np.array([11,20,33]) \n",
    "print (a)"
   ]
  },
  {
   "cell_type": "code",
   "execution_count": 10,
   "metadata": {},
   "outputs": [
    {
     "name": "stdout",
     "output_type": "stream",
     "text": [
      "[[12 23]\n",
      " [34 45]]\n"
     ]
    }
   ],
   "source": [
    "# Excercise 2\n",
    "# more_than one dimensional array\n",
    "import numpy as np \n",
    "a = np.array([[12, 23], [34, 45]]) \n",
    "print (a)"
   ]
  },
  {
   "cell_type": "code",
   "execution_count": 27,
   "metadata": {},
   "outputs": [
    {
     "name": "stdout",
     "output_type": "stream",
     "text": [
      "[[10 20 30 40 50]]\n"
     ]
    }
   ],
   "source": [
    "# Excercise 3\n",
    "# dimension of the array\n",
    "import numpy as np \n",
    "a = np.array([10, 20, 30,40,50], ndmin = 2) \n",
    "print (a)"
   ]
  },
  {
   "cell_type": "code",
   "execution_count": 34,
   "metadata": {},
   "outputs": [
    {
     "name": "stdout",
     "output_type": "stream",
     "text": [
      "[ 9.+0.j 10.+0.j 11.+0.j]\n"
     ]
    }
   ],
   "source": [
    "# Excercise 4\n",
    "# parametrizing the data type \n",
    "import numpy as np \n",
    "a = np.array([9,10,11], dtype= complex)\n",
    "print (a)"
   ]
  },
  {
   "cell_type": "code",
   "execution_count": 15,
   "metadata": {},
   "outputs": [
    {
     "name": "stdout",
     "output_type": "stream",
     "text": [
      "[ True  True  True]\n"
     ]
    }
   ],
   "source": [
    "# Excercise 5\n",
    "# parametrizing the data type \n",
    "import numpy as np \n",
    "# a = np.array([9,10,11], dtype = float)\n",
    "#a = np.array([9,10,11], dtype = int)\n",
    "#a = np.array([9,10,11], dtype = str)\n",
    "a = np.array([9,10,11], dtype = bool)\n",
    "print (a)"
   ]
  },
  {
   "cell_type": "code",
   "execution_count": 38,
   "metadata": {},
   "outputs": [
    {
     "name": "stdout",
     "output_type": "stream",
     "text": [
      "int64\n"
     ]
    }
   ],
   "source": [
    "# Excercise 6\n",
    "# use of scalar array type  \n",
    "import numpy as np\n",
    "dt = np.dtype(np.int32) \n",
    "dt = np.dtype(np.int64) \n",
    "print (dt)"
   ]
  },
  {
   "cell_type": "code",
   "execution_count": 43,
   "metadata": {},
   "outputs": [
    {
     "name": "stdout",
     "output_type": "stream",
     "text": [
      "float64\n"
     ]
    }
   ],
   "source": [
    "# Excercise 7\n",
    "# No need to import numpy as np in every line\n",
    "#int8, int16, int32, int 64, uint8, uint16, uint32, uint64,\n",
    "# float16, float32, float64 and float128 are the data types in numpy \n",
    "#dt = np.dtype('i4')\n",
    "#dt = np.dtype('uint64')\n",
    "dt = np.dtype('float64')\n",
    "print (dt)"
   ]
  },
  {
   "cell_type": "code",
   "execution_count": 60,
   "metadata": {},
   "outputs": [
    {
     "name": "stdout",
     "output_type": "stream",
     "text": [
      "int8\n"
     ]
    }
   ],
   "source": [
    "# Excercise 8\n",
    "dt = np.dtype('i1')\n",
    "print (dt)"
   ]
  },
  {
   "cell_type": "code",
   "execution_count": 62,
   "metadata": {},
   "outputs": [
    {
     "name": "stdout",
     "output_type": "stream",
     "text": [
      ">i2\n"
     ]
    }
   ],
   "source": [
    "# Excercise 9\n",
    "dt = np.dtype('>i2')\n",
    "print (dt)"
   ]
  },
  {
   "cell_type": "code",
   "execution_count": 63,
   "metadata": {},
   "outputs": [
    {
     "name": "stdout",
     "output_type": "stream",
     "text": [
      "[('age', '<i8')]\n"
     ]
    }
   ],
   "source": [
    "# Excercise 10\n",
    "# create a structure data type\n",
    "dt = np.dtype([('age',np.int64)]) \n",
    "print (dt)"
   ]
  },
  {
   "cell_type": "code",
   "execution_count": 64,
   "metadata": {},
   "outputs": [
    {
     "name": "stdout",
     "output_type": "stream",
     "text": [
      "[(30,) (40,) (50,)]\n"
     ]
    }
   ],
   "source": [
    "# Excercise 11\n",
    "# apply it to ndarray object\n",
    "dt = np.dtype([('age',np.int8)])\n",
    "a = np.array([(30,),(40,),(50,)], dtype = dt) \n",
    "print (a)"
   ]
  },
  {
   "cell_type": "code",
   "execution_count": 65,
   "metadata": {},
   "outputs": [
    {
     "name": "stdout",
     "output_type": "stream",
     "text": [
      "[50 50 20]\n"
     ]
    }
   ],
   "source": [
    "# Excercise 12\n",
    "# name of file is used to access content of age column\n",
    "dt = np.dtype([('age',np.int8)]) \n",
    "a = np.array([(50,),(50,),(20,)], dtype = dt) \n",
    "print (a['age'])"
   ]
  },
  {
   "cell_type": "code",
   "execution_count": 67,
   "metadata": {},
   "outputs": [
    {
     "name": "stdout",
     "output_type": "stream",
     "text": [
      "[('name', 'S30'), ('age', '<i2'), ('marks', '<f2')]\n"
     ]
    }
   ],
   "source": [
    "# Excercise 13\n",
    "alumni  = np.dtype([('name','S30'), ('age', 'i2'), ('marks', 'f2')])\n",
    "print (alumni)"
   ]
  },
  {
   "cell_type": "code",
   "execution_count": 70,
   "metadata": {},
   "outputs": [
    {
     "name": "stdout",
     "output_type": "stream",
     "text": [
      "[(b'xyz', 31, 40.) (b'xyz', 28, 65.)]\n"
     ]
    }
   ],
   "source": [
    "# Excercise 14\n",
    "alumni = np.dtype([('name','S30'), ('age', 'i2'), ('marks', 'f4')]) \n",
    "a = np.array([('xyz', 31, 40),('xyz', 28, 65)], dtype = alumni) \n",
    "print (a)"
   ]
  }
 ],
 "metadata": {
  "kernelspec": {
   "display_name": "Python 3",
   "language": "python",
   "name": "python3"
  },
  "language_info": {
   "codemirror_mode": {
    "name": "ipython",
    "version": 3
   },
   "file_extension": ".py",
   "mimetype": "text/x-python",
   "name": "python",
   "nbconvert_exporter": "python",
   "pygments_lexer": "ipython3",
   "version": "3.13.0"
  }
 },
 "nbformat": 4,
 "nbformat_minor": 2
}
