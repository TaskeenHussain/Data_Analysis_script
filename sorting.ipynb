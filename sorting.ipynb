{
 "cells": [
  {
   "cell_type": "markdown",
   "metadata": {},
   "source": [
    "# \"Sorting Arrays Efficiently with NumPy\"\n",
    "## Author: Taskeen Hussain\n",
    "## Date: 2025-01-05\n",
    "### Learn how to sort arrays efficiently using NumPy, a powerful library for numerical computing in Python. Explore various sorting techniques to organize data for analysis and computation."
   ]
  },
  {
   "cell_type": "code",
   "execution_count": 13,
   "metadata": {},
   "outputs": [
    {
     "name": "stdout",
     "output_type": "stream",
     "text": [
      "Our array is:\n",
      "[[33 57]\n",
      " [92 19]]\n",
      "\n",
      "\n"
     ]
    }
   ],
   "source": [
    "# Excercise for numpy sorting practice it for learn numpy data structure and sorting\n",
    "import numpy as np  \n",
    "a = np.array([[33,57],[92,19]]) \n",
    "\n",
    "print ('Our array is:') \n",
    "print (a) \n",
    "print ('\\n')"
   ]
  },
  {
   "cell_type": "code",
   "execution_count": 14,
   "metadata": {},
   "outputs": [
    {
     "name": "stdout",
     "output_type": "stream",
     "text": [
      "Applying sort() function:\n",
      "[[33 57]\n",
      " [19 92]]\n",
      "\n",
      "\n"
     ]
    }
   ],
   "source": [
    "\n",
    "print ('Applying sort() function:') \n",
    "print (np.sort(a)) \n",
    "print ('\\n') \n"
   ]
  },
  {
   "cell_type": "code",
   "execution_count": 15,
   "metadata": {},
   "outputs": [
    {
     "name": "stdout",
     "output_type": "stream",
     "text": [
      "Sort along axis 0:\n",
      "[[33 19]\n",
      " [92 57]]\n",
      "\n",
      "\n"
     ]
    }
   ],
   "source": [
    "print ('Sort along axis 0:') \n",
    "print (np.sort(a, axis = 0)) \n",
    "print ('\\n')  \n"
   ]
  },
  {
   "cell_type": "code",
   "execution_count": 17,
   "metadata": {},
   "outputs": [],
   "source": [
    "# Order parameter in sort function \n",
    "dt = (np.dtype([('name', 'S20'),('age', int)])) \n",
    "a = (np.array([(\"Ali\",21),(\"Malik\",25),(\"Niaz\", 17), (\"amar\",27)], dtype = dt)) \n"
   ]
  },
  {
   "cell_type": "code",
   "execution_count": 18,
   "metadata": {},
   "outputs": [
    {
     "name": "stdout",
     "output_type": "stream",
     "text": [
      "Our array is:\n",
      "[(b'Ali', 21) (b'Malik', 25) (b'Niaz', 17) (b'amar', 27)]\n",
      "\n",
      "\n"
     ]
    }
   ],
   "source": [
    "print ('Our array is:') \n",
    "print (a) \n",
    "print ('\\n')  "
   ]
  },
  {
   "cell_type": "code",
   "execution_count": 19,
   "metadata": {},
   "outputs": [
    {
     "name": "stdout",
     "output_type": "stream",
     "text": [
      "Order by name:\n",
      "[(b'Ali', 21) (b'Malik', 25) (b'Niaz', 17) (b'amar', 27)]\n"
     ]
    }
   ],
   "source": [
    "print ('Order by name:') \n",
    "print (np.sort(a, order = 'name'))"
   ]
  },
  {
   "cell_type": "code",
   "execution_count": 20,
   "metadata": {},
   "outputs": [
    {
     "name": "stdout",
     "output_type": "stream",
     "text": [
      "Our array is:\n",
      "[3 1 2]\n",
      "\n",
      "\n"
     ]
    }
   ],
   "source": [
    "x = np.array([3, 1, 2]) \n",
    "\n",
    "print ('Our array is:') \n",
    "print (x) \n",
    "print ('\\n')"
   ]
  },
  {
   "cell_type": "code",
   "execution_count": 21,
   "metadata": {},
   "outputs": [
    {
     "name": "stdout",
     "output_type": "stream",
     "text": [
      "Applying argsort() to x:\n",
      "[1 2 0]\n",
      "\n",
      "\n"
     ]
    }
   ],
   "source": [
    "print ('Applying argsort() to x:') \n",
    "y = np.argsort(x) \n",
    "print (y) \n",
    "print ('\\n') "
   ]
  },
  {
   "cell_type": "code",
   "execution_count": 22,
   "metadata": {},
   "outputs": [
    {
     "name": "stdout",
     "output_type": "stream",
     "text": [
      "Reconstruct original array in sorted order:\n",
      "[1 2 3]\n",
      "\n",
      "\n"
     ]
    }
   ],
   "source": [
    "print ('Reconstruct original array in sorted order:') \n",
    "print (x[y]) \n",
    "print ('\\n')"
   ]
  },
  {
   "cell_type": "code",
   "execution_count": 23,
   "metadata": {},
   "outputs": [
    {
     "name": "stdout",
     "output_type": "stream",
     "text": [
      "Reconstruct the original array using loop:\n",
      "1\n",
      "2\n",
      "3\n"
     ]
    }
   ],
   "source": [
    "print ('Reconstruct the original array using loop:') \n",
    "for i in y: \n",
    "   print (x[i])"
   ]
  },
  {
   "cell_type": "code",
   "execution_count": 25,
   "metadata": {},
   "outputs": [],
   "source": [
    "nm = ('Ali','Malik','Niaz','amar') \n",
    "dv = ('f.y.', 's.y.', 's.y.', 'f.y.') \n",
    "ind = np.lexsort((dv,nm)) \n"
   ]
  },
  {
   "cell_type": "code",
   "execution_count": 26,
   "metadata": {},
   "outputs": [
    {
     "name": "stdout",
     "output_type": "stream",
     "text": [
      "Applying lexsort() function:\n",
      "[0 1 2 3]\n",
      "\n",
      "\n"
     ]
    }
   ],
   "source": [
    "print ('Applying lexsort() function:') \n",
    "print (ind) \n",
    "print ('\\n')"
   ]
  },
  {
   "cell_type": "code",
   "execution_count": 27,
   "metadata": {},
   "outputs": [
    {
     "name": "stdout",
     "output_type": "stream",
     "text": [
      "Use this index to get sorted data:\n",
      "['Ali, f.y.', 'Malik, s.y.', 'Niaz, s.y.', 'amar, f.y.']\n"
     ]
    }
   ],
   "source": [
    "print ('Use this index to get sorted data:') \n",
    "print ([nm[i] + \", \" + dv[i] for i in ind]) "
   ]
  },
  {
   "cell_type": "code",
   "execution_count": 28,
   "metadata": {},
   "outputs": [
    {
     "name": "stdout",
     "output_type": "stream",
     "text": [
      "Our array is:\n",
      "[[30 40 70]\n",
      " [80 20 10]\n",
      " [50 90 60]]\n",
      "\n",
      "\n"
     ]
    }
   ],
   "source": [
    "a = np.array([[30,40,70],[80,20,10],[50,90,60]]) \n",
    "\n",
    "print ('Our array is:') \n",
    "print (a) \n",
    "print ('\\n') "
   ]
  },
  {
   "cell_type": "code",
   "execution_count": 29,
   "metadata": {},
   "outputs": [
    {
     "name": "stdout",
     "output_type": "stream",
     "text": [
      "Applying argmax() function:\n",
      "7\n",
      "\n",
      "\n"
     ]
    }
   ],
   "source": [
    "print ('Applying argmax() function:') \n",
    "print (np.argmax(a)) \n",
    "print ('\\n')  \n"
   ]
  },
  {
   "cell_type": "code",
   "execution_count": 30,
   "metadata": {},
   "outputs": [
    {
     "name": "stdout",
     "output_type": "stream",
     "text": [
      "Index of maximum number in flattened array\n",
      "[30 40 70 80 20 10 50 90 60]\n",
      "\n",
      "\n"
     ]
    }
   ],
   "source": [
    "print ('Index of maximum number in flattened array')\n",
    "print (a.flatten()) \n",
    "print ('\\n')  "
   ]
  },
  {
   "cell_type": "code",
   "execution_count": 31,
   "metadata": {},
   "outputs": [
    {
     "name": "stdout",
     "output_type": "stream",
     "text": [
      "Array containing indices of maximum along axis 0:\n",
      "[1 2 0]\n",
      "\n",
      "\n"
     ]
    }
   ],
   "source": [
    "print ('Array containing indices of maximum along axis 0:') \n",
    "maxindex = np.argmax(a, axis = 0) \n",
    "print (maxindex) \n",
    "print ('\\n')  \n"
   ]
  },
  {
   "cell_type": "code",
   "execution_count": 32,
   "metadata": {},
   "outputs": [
    {
     "name": "stdout",
     "output_type": "stream",
     "text": [
      "Array containing indices of maximum along axis 1:\n",
      "[2 0 1]\n",
      "\n",
      "\n"
     ]
    }
   ],
   "source": [
    "print ('Array containing indices of maximum along axis 1:') \n",
    "maxindex = np.argmax(a, axis = 1) \n",
    "print (maxindex) \n",
    "print ('\\n') "
   ]
  },
  {
   "cell_type": "code",
   "execution_count": 33,
   "metadata": {},
   "outputs": [
    {
     "name": "stdout",
     "output_type": "stream",
     "text": [
      "Applying argmin() function:\n",
      "5\n",
      "\n",
      "\n"
     ]
    }
   ],
   "source": [
    "print ('Applying argmin() function:') \n",
    "minindex = np.argmin(a) \n",
    "print (minindex) \n",
    "print ('\\n')  \n"
   ]
  },
  {
   "cell_type": "code",
   "execution_count": 34,
   "metadata": {},
   "outputs": [
    {
     "name": "stdout",
     "output_type": "stream",
     "text": [
      "Flattened array:\n",
      "10\n",
      "\n",
      "\n"
     ]
    }
   ],
   "source": [
    "print ('Flattened array:') \n",
    "print (a.flatten()[minindex]) \n",
    "print ('\\n')  \n"
   ]
  },
  {
   "cell_type": "code",
   "execution_count": 35,
   "metadata": {},
   "outputs": [
    {
     "name": "stdout",
     "output_type": "stream",
     "text": [
      "Flattened array along axis 0:\n",
      "[0 1 1]\n",
      "\n",
      "\n"
     ]
    }
   ],
   "source": [
    "print ('Flattened array along axis 0:') \n",
    "minindex = np.argmin(a, axis = 0) \n",
    "print (minindex)\n",
    "print ('\\n')"
   ]
  },
  {
   "cell_type": "code",
   "execution_count": 36,
   "metadata": {},
   "outputs": [
    {
     "name": "stdout",
     "output_type": "stream",
     "text": [
      "Flattened array along axis 1:\n",
      "[0 2 0]\n"
     ]
    }
   ],
   "source": [
    "print ('Flattened array along axis 1:') \n",
    "minindex = np.argmin(a, axis = 1) \n",
    "print (minindex)\n"
   ]
  },
  {
   "cell_type": "code",
   "execution_count": 37,
   "metadata": {},
   "outputs": [
    {
     "name": "stdout",
     "output_type": "stream",
     "text": [
      "Our array is:\n",
      "[[30 40  0]\n",
      " [ 0 20 10]\n",
      " [50  0 60]]\n",
      "\n",
      "\n"
     ]
    }
   ],
   "source": [
    "a = np.array([[30,40,0],[0,20,10],[50,0,60]]) \n",
    "\n",
    "print ('Our array is:') \n",
    "print (a) \n",
    "print ('\\n')  "
   ]
  },
  {
   "cell_type": "code",
   "execution_count": 38,
   "metadata": {},
   "outputs": [
    {
     "name": "stdout",
     "output_type": "stream",
     "text": [
      "Applying nonzero() function:\n",
      "(array([0, 0, 1, 1, 2, 2]), array([0, 1, 1, 2, 0, 2]))\n"
     ]
    }
   ],
   "source": [
    "print ('Applying nonzero() function:') \n",
    "print (np.nonzero (a))"
   ]
  },
  {
   "cell_type": "code",
   "execution_count": 39,
   "metadata": {},
   "outputs": [
    {
     "name": "stdout",
     "output_type": "stream",
     "text": [
      "Our array is:\n",
      "[[0. 1. 2.]\n",
      " [3. 4. 5.]\n",
      " [6. 7. 8.]]\n"
     ]
    }
   ],
   "source": [
    "x = np.arange(9.).reshape(3, 3) \n",
    "\n",
    "print ('Our array is:') \n",
    "print (x)"
   ]
  },
  {
   "cell_type": "code",
   "execution_count": 40,
   "metadata": {},
   "outputs": [
    {
     "name": "stdout",
     "output_type": "stream",
     "text": [
      "Indices of elements > 3\n",
      "(array([1, 1, 2, 2, 2]), array([1, 2, 0, 1, 2]))\n"
     ]
    }
   ],
   "source": [
    "print ('Indices of elements > 3') \n",
    "y = np.where(x > 3) \n",
    "print (y)"
   ]
  },
  {
   "cell_type": "code",
   "execution_count": 41,
   "metadata": {},
   "outputs": [
    {
     "name": "stdout",
     "output_type": "stream",
     "text": [
      "Use these indices to get elements satisfying the condition\n",
      "[4. 5. 6. 7. 8.]\n"
     ]
    }
   ],
   "source": [
    "print ('Use these indices to get elements satisfying the condition') \n",
    "print (x[y])"
   ]
  },
  {
   "cell_type": "code",
   "execution_count": 42,
   "metadata": {},
   "outputs": [
    {
     "name": "stdout",
     "output_type": "stream",
     "text": [
      "Our array is:\n",
      "[[0. 1. 2.]\n",
      " [3. 4. 5.]\n",
      " [6. 7. 8.]]\n"
     ]
    }
   ],
   "source": [
    "x = np.arange(9.).reshape(3, 3) \n",
    "\n",
    "print ('Our array is:') \n",
    "print (x)"
   ]
  },
  {
   "cell_type": "code",
   "execution_count": 43,
   "metadata": {},
   "outputs": [],
   "source": [
    "# define a condition \n",
    "condition = np.mod(x,2) == 0 "
   ]
  },
  {
   "cell_type": "code",
   "execution_count": 44,
   "metadata": {},
   "outputs": [
    {
     "name": "stdout",
     "output_type": "stream",
     "text": [
      "Element-wise value of condition\n",
      "[[ True False  True]\n",
      " [False  True False]\n",
      " [ True False  True]]\n"
     ]
    }
   ],
   "source": [
    "print ('Element-wise value of condition') \n",
    "print (condition)  "
   ]
  },
  {
   "cell_type": "code",
   "execution_count": 45,
   "metadata": {},
   "outputs": [
    {
     "name": "stdout",
     "output_type": "stream",
     "text": [
      "Extract elements using condition\n",
      "[0. 2. 4. 6. 8.]\n"
     ]
    }
   ],
   "source": [
    "print ('Extract elements using condition') \n",
    "print (np.extract(condition, x))"
   ]
  }
 ],
 "metadata": {
  "kernelspec": {
   "display_name": "Python 3",
   "language": "python",
   "name": "python3"
  },
  "language_info": {
   "codemirror_mode": {
    "name": "ipython",
    "version": 3
   },
   "file_extension": ".py",
   "mimetype": "text/x-python",
   "name": "python",
   "nbconvert_exporter": "python",
   "pygments_lexer": "ipython3",
   "version": "3.13.0"
  }
 },
 "nbformat": 4,
 "nbformat_minor": 2
}
